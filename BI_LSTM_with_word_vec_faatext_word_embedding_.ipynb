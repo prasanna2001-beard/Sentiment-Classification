{
  "cells": [
    {
      "cell_type": "code",
      "execution_count": 1,
      "metadata": {
        "colab": {
          "base_uri": "https://localhost:8080/"
        },
        "id": "5kgSzyIuCYIS",
        "outputId": "45b328ca-2935-47b0-8844-ae880ac09faa"
      },
      "outputs": [
        {
          "output_type": "stream",
          "name": "stdout",
          "text": [
            "Epoch 1/10\n",
            "400/400 [==============================] - 47s 110ms/step - loss: 0.2691 - accuracy: 0.9301 - val_loss: 0.2572 - val_accuracy: 0.9287\n",
            "Epoch 2/10\n",
            "400/400 [==============================] - 41s 103ms/step - loss: 0.2537 - accuracy: 0.9301 - val_loss: 0.2579 - val_accuracy: 0.9287\n",
            "Epoch 3/10\n",
            "400/400 [==============================] - 42s 106ms/step - loss: 0.2543 - accuracy: 0.9301 - val_loss: 0.2576 - val_accuracy: 0.9287\n",
            "Epoch 4/10\n",
            "400/400 [==============================] - 43s 107ms/step - loss: 0.2538 - accuracy: 0.9301 - val_loss: 0.2585 - val_accuracy: 0.9287\n",
            "Epoch 5/10\n",
            "400/400 [==============================] - 41s 104ms/step - loss: 0.2537 - accuracy: 0.9301 - val_loss: 0.2571 - val_accuracy: 0.9287\n",
            "Epoch 6/10\n",
            "400/400 [==============================] - 42s 105ms/step - loss: 0.2537 - accuracy: 0.9301 - val_loss: 0.2587 - val_accuracy: 0.9287\n",
            "Epoch 7/10\n",
            "400/400 [==============================] - 41s 103ms/step - loss: 0.2536 - accuracy: 0.9301 - val_loss: 0.2572 - val_accuracy: 0.9287\n",
            "Epoch 8/10\n",
            "400/400 [==============================] - 40s 101ms/step - loss: 0.2537 - accuracy: 0.9301 - val_loss: 0.2580 - val_accuracy: 0.9287\n",
            "Epoch 9/10\n",
            "400/400 [==============================] - 42s 105ms/step - loss: 0.2538 - accuracy: 0.9301 - val_loss: 0.2576 - val_accuracy: 0.9287\n",
            "Epoch 10/10\n",
            "400/400 [==============================] - 41s 103ms/step - loss: 0.2535 - accuracy: 0.9301 - val_loss: 0.2581 - val_accuracy: 0.9287\n",
            "Accuracy: 0.9286719560623169\n"
          ]
        }
      ],
      "source": [
        "import pandas as pd\n",
        "import numpy as np\n",
        "from sklearn.model_selection import train_test_split\n",
        "from keras.preprocessing.text import Tokenizer\n",
        "from tensorflow.keras.preprocessing.sequence import pad_sequences\n",
        "from keras.models import Sequential\n",
        "from keras.layers import Embedding, LSTM, Dense\n",
        "from gensim.models import Word2Vec, FastText\n",
        "\n",
        "# Load the dataset\n",
        "data = pd.read_csv('/content/drive/MyDrive/DATASET/twetter.csv') \n",
        "\n",
        "# Convert labels to the appropriate data type\n",
        "data['label'] = data['label'].astype(int)\n",
        "\n",
        "# Split the dataset into training and testing sets\n",
        "X_train, X_test, y_train, y_test = train_test_split(data['tweet'], data['label'], test_size=0.2, random_state=42)\n",
        "\n",
        "# Tokenize the text\n",
        "tokenizer = Tokenizer()\n",
        "tokenizer.fit_on_texts(X_train)\n",
        "\n",
        "# Convert text to sequences\n",
        "X_train_sequences = tokenizer.texts_to_sequences(X_train)\n",
        "X_test_sequences = tokenizer.texts_to_sequences(X_test)\n",
        "\n",
        "# Pad sequences to ensure consistent length\n",
        "max_sequence_length = max([len(sequence) for sequence in X_train_sequences])\n",
        "X_train_padded = pad_sequences(X_train_sequences, maxlen=max_sequence_length)\n",
        "X_test_padded = pad_sequences(X_test_sequences, maxlen=max_sequence_length)\n",
        "\n",
        "# Word Embedding - Word2Vec\n",
        "word2vec_model = Word2Vec(sentences=X_train_sequences, vector_size=100, min_count=1)\n",
        "embedding_matrix = np.zeros((len(tokenizer.word_index) + 1, 100))\n",
        "for word, i in tokenizer.word_index.items():\n",
        "    if word in word2vec_model.wv.key_to_index:\n",
        "        embedding_matrix[i] = word2vec_model.wv[word]\n",
        "\n",
        "# Word Embedding - FastText\n",
        "fasttext_model = FastText(sentences=X_train_sequences, vector_size=100, min_count=1)\n",
        "embedding_matrix = np.zeros((len(tokenizer.word_index) + 1, 100))\n",
        "for word, i in tokenizer.word_index.items():\n",
        "    if word in fasttext_model.wv.key_to_index:\n",
        "        embedding_matrix[i] = fasttext_model.wv[word]\n",
        "\n",
        "# Define the BI-LSTM model\n",
        "model = Sequential()\n",
        "model.add(Embedding(len(tokenizer.word_index) + 1, 100, weights=[embedding_matrix], input_length=max_sequence_length, trainable=False))\n",
        "model.add(LSTM(100, dropout=0.2, recurrent_dropout=0.2))\n",
        "model.add(Dense(1, activation='sigmoid'))\n",
        "\n",
        "model.compile(loss='binary_crossentropy', optimizer='adam', metrics=['accuracy'])\n",
        "\n",
        "# Train the model\n",
        "model.fit(X_train_padded, y_train.astype(float), validation_data=(X_test_padded, y_test.astype(float)), epochs=10, batch_size=64)\n",
        "\n",
        "# Evaluate the model\n",
        "loss, accuracy = model.evaluate(X_test_padded, y_test.astype(float), verbose=0)\n",
        "print(\"Accuracy:\", accuracy)"
      ]
    }
  ],
  "metadata": {
    "colab": {
      "provenance": []
    },
    "kernelspec": {
      "display_name": "Python 3",
      "name": "python3"
    },
    "language_info": {
      "name": "python"
    }
  },
  "nbformat": 4,
  "nbformat_minor": 0
}